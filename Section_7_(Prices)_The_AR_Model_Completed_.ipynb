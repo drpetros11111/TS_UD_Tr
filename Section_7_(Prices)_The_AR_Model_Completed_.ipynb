{
  "cells": [
    {
      "cell_type": "markdown",
      "metadata": {
        "id": "view-in-github",
        "colab_type": "text"
      },
      "source": [
        "<a href=\"https://colab.research.google.com/github/drpetros11111/TS_UD_Tr/blob/main/Section_7_(Prices)_The_AR_Model_Completed_.ipynb\" target=\"_parent\"><img src=\"https://colab.research.google.com/assets/colab-badge.svg\" alt=\"Open In Colab\"/></a>"
      ]
    },
    {
      "cell_type": "markdown",
      "metadata": {
        "id": "5EErBOrWqdWB"
      },
      "source": [
        "## Importing the relevant packages\n"
      ]
    },
    {
      "cell_type": "code",
      "execution_count": 16,
      "metadata": {
        "id": "FtfbftqVqdWE"
      },
      "outputs": [],
      "source": [
        "import pandas as pd\n",
        "import numpy as np\n",
        "import matplotlib.pyplot as plt\n",
        "import statsmodels.graphics.tsaplots as sgt\n",
        "from statsmodels.tsa.arima.model import ARIMA # Changed from ARMA to ARIMA\n",
        "from scipy.stats.distributions import chi2\n",
        "import statsmodels.tsa.stattools as sts\n",
        "import seaborn as sns\n",
        "sns.set()"
      ]
    },
    {
      "cell_type": "markdown",
      "source": [
        "# This code imports several Python libraries commonly used for data analysis and time series modeling:\n",
        "\n",
        "------\n",
        "    import pandas as pd\n",
        "Imports the pandas library, which is essential for working with data in DataFrames (like tables).\n",
        "\n",
        "The as pd part gives it a shorter nickname for easier use.\n",
        "\n",
        "---------------------------\n",
        "    import numpy as np\n",
        "\n",
        "Imports the NumPy library, widely used for numerical operations, especially with arrays.\n",
        "\n",
        "It's nicknamed np.\n",
        "\n",
        "-----------------------\n",
        "    import matplotlib.pyplot as plt\n",
        "\n",
        "Imports the pyplot module from the Matplotlib library, which is used for creating static, interactive, and animated visualizations in Python.\n",
        "\n",
        "It's nicknamed plt.\n",
        "\n",
        "---------------------------\n",
        "    import statsmodels.graphics.tsaplots as sgt\n",
        "\n",
        "Imports the tsaplots module from statsmodels.graphics, which is used for creating time series plots like ACF and PACF plots.\n",
        "\n",
        "It's nicknamed sgt.\n",
        "\n",
        "---------------------------------\n",
        "    from statsmodels.tsa.arima_model import ARMA\n",
        "\n",
        "Imports the ARMA model specifically from the statsmodels.tsa.arima_model module. This is used for time series forecasting.\n",
        "\n",
        "----------------\n",
        "    from scipy.stats.distributions import chi2\n",
        "\n",
        "Imports the chi2 distribution from the scipy.stats.distributions module.\n",
        "\n",
        "This is often used in statistical tests, like the LLR test in this notebook.\n",
        "\n",
        "----------------------------\n",
        "    import statsmodels.tsa.stattools as sts\n",
        "\n",
        "Imports the stattools module from statsmodels.tsa, which provides various statistical tests and tools for time series analysis, such as the Augmented Dickey-Fuller test.\n",
        "\n",
        "It's nicknamed sts.\n",
        "\n",
        "--------------------------\n",
        "\n",
        "    import seaborn as sns\n",
        "\n",
        "Imports the Seaborn library, which is built on top of Matplotlib and provides a high-level interface for drawing attractive statistical graphics. It's nicknamed sns.\n",
        "\n",
        "----------------\n",
        "    sns.set()\n",
        "\n",
        "This line applies Seaborn's default aesthetic settings to the plots, making them visually more appealing."
      ],
      "metadata": {
        "id": "huFKJqPkrJyN"
      }
    },
    {
      "cell_type": "markdown",
      "metadata": {
        "id": "wIoatJ3iqdWG"
      },
      "source": [
        "## Importing the Data and Pre-processing"
      ]
    },
    {
      "cell_type": "code",
      "execution_count": 18,
      "metadata": {
        "id": "KRT8Mk7tqdWG",
        "colab": {
          "base_uri": "https://localhost:8080/"
        },
        "outputId": "57a43c97-4e0b-46ab-e85f-d6e71be75198"
      },
      "outputs": [
        {
          "output_type": "stream",
          "name": "stderr",
          "text": [
            "/tmp/ipython-input-295742161.py:6: FutureWarning: DataFrame.fillna with 'method' is deprecated and will raise in a future version. Use obj.ffill() or obj.bfill() instead.\n",
            "  df_comp=df_comp.fillna(method='ffill')\n"
          ]
        }
      ],
      "source": [
        "raw_csv_data = pd.read_csv(\"/content/Index2018.csv\")\n",
        "df_comp=raw_csv_data.copy()\n",
        "df_comp.date = pd.to_datetime(df_comp.date, dayfirst = True)\n",
        "df_comp.set_index(\"date\", inplace=True)\n",
        "df_comp=df_comp.asfreq('b')\n",
        "df_comp=df_comp.fillna(method='ffill')"
      ]
    },
    {
      "cell_type": "code",
      "execution_count": 19,
      "metadata": {
        "id": "olhh9NBRqdWH"
      },
      "outputs": [],
      "source": [
        "df_comp['market_value']=df_comp.ftse"
      ]
    },
    {
      "cell_type": "code",
      "execution_count": 20,
      "metadata": {
        "id": "ISwNt2KnqdWH"
      },
      "outputs": [],
      "source": [
        "del df_comp['spx']\n",
        "del df_comp['dax']\n",
        "del df_comp['ftse']\n",
        "del df_comp['nikkei']\n",
        "size = int(len(df_comp)*0.8)\n",
        "df, df_test = df_comp.iloc[:size], df_comp.iloc[size:]"
      ]
    },
    {
      "cell_type": "markdown",
      "metadata": {
        "id": "TY1_X40sqdWH"
      },
      "source": [
        "## The ACF"
      ]
    },
    {
      "cell_type": "code",
      "execution_count": 21,
      "metadata": {
        "scrolled": true,
        "id": "bjk9k2P-qdWI",
        "outputId": "7ff6bbc6-ef19-4053-9b2c-d31379ddae13",
        "colab": {
          "base_uri": "https://localhost:8080/",
          "height": 465
        }
      },
      "outputs": [
        {
          "output_type": "display_data",
          "data": {
            "text/plain": [
              "<Figure size 640x480 with 1 Axes>"
            ],
            "image/png": "[encoded data removed]"
          },
          "metadata": {}
        }
      ],
      "source": [
        "sgt.plot_acf(df.market_value, zero = False, lags = 40)\n",
        "plt.title(\"ACF for Prices\", size = 20)\n",
        "plt.show()"
      ]
    },
    {
      "cell_type": "code",
      "execution_count": 22,
      "metadata": {
        "id": "5Bp9T420qdWJ"
      },
      "outputs": [],
      "source": [
        "import warnings\n",
        "warnings.filterwarnings(\"ignore\")"
      ]
    },
    {
      "cell_type": "markdown",
      "metadata": {
        "id": "TpasyPeDqdWJ"
      },
      "source": [
        "## The PACF"
      ]
    },
    {
      "cell_type": "code",
      "execution_count": 23,
      "metadata": {
        "scrolled": true,
        "id": "GSpHFauhqdWK",
        "outputId": "d0a7bed6-7fda-4325-be99-e16e44e5c5c4",
        "colab": {
          "base_uri": "https://localhost:8080/",
          "height": 465
        }
      },
      "outputs": [
        {
          "output_type": "display_data",
          "data": {
            "text/plain": [
              "<Figure size 640x480 with 1 Axes>"
            ],
            "image/png": "[encoded data removed]"
          },
          "metadata": {}
        }
      ],
      "source": [
        "sgt.plot_pacf(df.market_value, lags = 40, alpha = 0.05, zero = False, method = ('ols'))\n",
        "plt.title(\"PACF for Prices\", size = 20)\n",
        "plt.show()"
      ]
    },
    {
      "cell_type": "markdown",
      "metadata": {
        "id": "SZ0THaVxqdWL"
      },
      "source": [
        "## The AR(1) Model"
      ]
    },
    {
      "cell_type": "code",
      "execution_count": 24,
      "metadata": {
        "id": "zAHhXRrTqdWL"
      },
      "outputs": [],
      "source": [
        "model_ar = ARIMA(df.market_value, order=(1,0,0)) # Changed from ARMA to ARIMA and added integrated order"
      ]
    },
    {
      "cell_type": "code",
      "execution_count": 25,
      "metadata": {
        "id": "ZRzu1F8JqdWL"
      },
      "outputs": [],
      "source": [
        "results_ar = model_ar.fit()"
      ]
    },
    {
      "cell_type": "code",
      "execution_count": 26,
      "metadata": {
        "id": "aTvu-eHNqdWM",
        "outputId": "866a3621-2c00-47fe-ad79-b3add5de8daf",
        "colab": {
          "base_uri": "https://localhost:8080/",
          "height": 430
        }
      },
      "outputs": [
        {
          "output_type": "execute_result",
          "data": {
            "text/plain": [
              "<class 'statsmodels.iolib.summary.Summary'>\n",
              "\"\"\"\n",
              "                               SARIMAX Results                                \n",
              "==============================================================================\n",
              "Dep. Variable:           market_value   No. Observations:                 5021\n",
              "Model:                 ARIMA(1, 0, 0)   Log Likelihood              -27622.604\n",
              "Date:                Tue, 19 Aug 2025   AIC                          55251.207\n",
              "Time:                        16:37:27   BIC                          55270.772\n",
              "Sample:                    01-07-1994   HQIC                         55258.063\n",
              "                         - 04-05-2013                                         \n",
              "Covariance Type:                  opg                                         \n",
              "==============================================================================\n",
              "                 coef    std err          z      P>|z|      [0.025      0.975]\n",
              "------------------------------------------------------------------------------\n",
              "const       5089.6374    423.329     12.023      0.000    4259.929    5919.346\n",
              "ar.L1          0.9984      0.001   1147.578      0.000       0.997       1.000\n",
              "sigma2      3511.3841     40.874     85.907      0.000    3431.272    3591.496\n",
              "===================================================================================\n",
              "Ljung-Box (L1) (Q):                   1.51   Jarque-Bera (JB):              3313.33\n",
              "Prob(Q):                              0.22   Prob(JB):                         0.00\n",
              "Heteroskedasticity (H):               1.90   Skew:                            -0.18\n",
              "Prob(H) (two-sided):                  0.00   Kurtosis:                         6.96\n",
              "===================================================================================\n",
              "\n",
              "Warnings:\n",
              "[1] Covariance matrix calculated using the outer product of gradients (complex-step).\n",
              "\"\"\""
            ],
            "text/html": [
              "<table class=\"simpletable\">\n",
              "<caption>SARIMAX Results</caption>\n",
              "<tr>\n",
              "  <th>Dep. Variable:</th>     <td>market_value</td>   <th>  No. Observations:  </th>    <td>5021</td>   \n",
              "</tr>\n",
              "<tr>\n",
              "  <th>Model:</th>            <td>ARIMA(1, 0, 0)</td>  <th>  Log Likelihood     </th> <td>-27622.604</td>\n",
              "</tr>\n",
              "<tr>\n",
              "  <th>Date:</th>            <td>Tue, 19 Aug 2025</td> <th>  AIC                </th>  <td>55251.207</td>\n",
              "</tr>\n",
              "<tr>\n",
              "  <th>Time:</th>                <td>16:37:27</td>     <th>  BIC                </th>  <td>55270.772</td>\n",
              "</tr>\n",
              "<tr>\n",
              "  <th>Sample:</th>             <td>01-07-1994</td>    <th>  HQIC               </th>  <td>55258.063</td>\n",
              "</tr>\n",
              "<tr>\n",
              "  <th></th>                   <td>- 04-05-2013</td>   <th>                     </th>      <td> </td>    \n",
              "</tr>\n",
              "<tr>\n",
              "  <th>Covariance Type:</th>        <td>opg</td>       <th>                     </th>      <td> </td>    \n",
              "</tr>\n",
              "</table>\n",
              "<table class=\"simpletable\">\n",
              "<tr>\n",
              "     <td></td>       <th>coef</th>     <th>std err</th>      <th>z</th>      <th>P>|z|</th>  <th>[0.025</th>    <th>0.975]</th>  \n",
              "</tr>\n",
              "<tr>\n",
              "  <th>const</th>  <td> 5089.6374</td> <td>  423.329</td> <td>   12.023</td> <td> 0.000</td> <td> 4259.929</td> <td> 5919.346</td>\n",
              "</tr>\n",
              "<tr>\n",
              "  <th>ar.L1</th>  <td>    0.9984</td> <td>    0.001</td> <td> 1147.578</td> <td> 0.000</td> <td>    0.997</td> <td>    1.000</td>\n",
              "</tr>\n",
              "<tr>\n",
              "  <th>sigma2</th> <td> 3511.3841</td> <td>   40.874</td> <td>   85.907</td> <td> 0.000</td> <td> 3431.272</td> <td> 3591.496</td>\n",
              "</tr>\n",
              "</table>\n",
              "<table class=\"simpletable\">\n",
              "<tr>\n",
              "  <th>Ljung-Box (L1) (Q):</th>     <td>1.51</td> <th>  Jarque-Bera (JB):  </th> <td>3313.33</td>\n",
              "</tr>\n",
              "<tr>\n",
              "  <th>Prob(Q):</th>                <td>0.22</td> <th>  Prob(JB):          </th>  <td>0.00</td>  \n",
              "</tr>\n",
              "<tr>\n",
              "  <th>Heteroskedasticity (H):</th> <td>1.90</td> <th>  Skew:              </th>  <td>-0.18</td> \n",
              "</tr>\n",
              "<tr>\n",
              "  <th>Prob(H) (two-sided):</th>    <td>0.00</td> <th>  Kurtosis:          </th>  <td>6.96</td>  \n",
              "</tr>\n",
              "</table><br/><br/>Warnings:<br/>[1] Covariance matrix calculated using the outer product of gradients (complex-step)."
            ],
            "text/latex": "\\begin{center}\n\\begin{tabular}{lclc}\n\\toprule\n\\textbf{Dep. Variable:}          &  market\\_value   & \\textbf{  No. Observations:  } &    5021     \\\\\n\\textbf{Model:}                  &  ARIMA(1, 0, 0)  & \\textbf{  Log Likelihood     } & -27622.604  \\\\\n\\textbf{Date:}                   & Tue, 19 Aug 2025 & \\textbf{  AIC                } & 55251.207   \\\\\n\\textbf{Time:}                   &     16:37:27     & \\textbf{  BIC                } & 55270.772   \\\\\n\\textbf{Sample:}                 &    01-07-1994    & \\textbf{  HQIC               } & 55258.063   \\\\\n\\textbf{}                        &   - 04-05-2013   & \\textbf{                     } &             \\\\\n\\textbf{Covariance Type:}        &       opg        & \\textbf{                     } &             \\\\\n\\bottomrule\n\\end{tabular}\n\\begin{tabular}{lcccccc}\n                & \\textbf{coef} & \\textbf{std err} & \\textbf{z} & \\textbf{P$> |$z$|$} & \\textbf{[0.025} & \\textbf{0.975]}  \\\\\n\\midrule\n\\textbf{const}  &    5089.6374  &      423.329     &    12.023  &         0.000        &     4259.929    &     5919.346     \\\\\n\\textbf{ar.L1}  &       0.9984  &        0.001     &  1147.578  &         0.000        &        0.997    &        1.000     \\\\\n\\textbf{sigma2} &    3511.3841  &       40.874     &    85.907  &         0.000        &     3431.272    &     3591.496     \\\\\n\\bottomrule\n\\end{tabular}\n\\begin{tabular}{lclc}\n\\textbf{Ljung-Box (L1) (Q):}     & 1.51 & \\textbf{  Jarque-Bera (JB):  } & 3313.33  \\\\\n\\textbf{Prob(Q):}                & 0.22 & \\textbf{  Prob(JB):          } &   0.00   \\\\\n\\textbf{Heteroskedasticity (H):} & 1.90 & \\textbf{  Skew:              } &  -0.18   \\\\\n\\textbf{Prob(H) (two-sided):}    & 0.00 & \\textbf{  Kurtosis:          } &   6.96   \\\\\n\\bottomrule\n\\end{tabular}\n%\\caption{SARIMAX Results}\n\\end{center}\n\nWarnings: \\newline\n [1] Covariance matrix calculated using the outer product of gradients (complex-step)."
          },
          "metadata": {},
          "execution_count": 26
        }
      ],
      "source": [
        "results_ar.summary()"
      ]
    },
    {
      "cell_type": "markdown",
      "source": [
        "# The image shows the results of an **ARMA(1, 0)** model, which is an Autoregressive Moving Average model.\n",
        "\n",
        "Let's break down the key sections and variables in this output.\n",
        "\n",
        "------------------------------\n",
        "### Model Summary 📈\n",
        "\n",
        "* **Dep. Variable**: The dependent variable, or the time series being modeled, which is **`market_value`**.\n",
        "\n",
        "-----------------------\n",
        "* **Model**: Specifies the type of model used, **`ARMA(1, 0)`**. This means it's an Autoregressive model of order 1 (AR=1) and a Moving Average model of order 0 (MA=0).\n",
        "\n",
        "---------------------------------\n",
        "* **No. Observations**: The number of data points used in the model, which is **5021**.\n",
        "\n",
        "-------------------------------------\n",
        "---------------------------------------\n",
        "* **Log Likelihood**: A measure of the model's fit. Higher values are better. This value is used to calculate the information criteria.\n",
        "\n",
        "Log-likelihood is a statistical measure used to evaluate how well a model fits the data it was trained on. It is a key component in a method called **Maximum Likelihood Estimation (MLE)**, which is often used to find the best parameters for a statistical model.\n",
        "\n",
        "### How it Works 🧠\n",
        "\n",
        "The concept of likelihood refers to the probability of observing the given data, assuming a particular set of model parameters. The log-likelihood is simply the logarithm of this likelihood. We use the logarithm because it simplifies calculations and turns products into sums, which are easier to work with.\n",
        "\n",
        "* **High Log-Likelihood**: A higher log-likelihood value (closer to zero or less negative) indicates that the observed data is more probable under the model. This means the model is a better fit for the data.\n",
        "* **Low Log-Likelihood**: A low (more negative) log-likelihood value means the data is less probable, indicating a poor model fit.\n",
        "\n",
        "### Example 🎯\n",
        "\n",
        "Imagine you have a coin and you want to know if it's fair. You flip it 10 times and get 8 heads.\n",
        "\n",
        "* **Model 1 (Fair Coin)**: The probability of getting a head is 0.5. The likelihood of your result (8 heads) would be very low. The log-likelihood would be a large negative number.\n",
        "* **Model 2 (Biased Coin)**: A model that assumes the probability of a head is 0.8 would have a much higher likelihood of observing 8 heads. The log-likelihood would be closer to zero (less negative), making it a better model.\n",
        "\n",
        "In the ARMA model results you provided, the log-likelihood of -27622.598 is a very negative number. This is common for time series models with a large number of observations. It's not a value you interpret in isolation but rather use to compare different models for the same data. A model with a log-likelihood of -25000 would be considered a better fit for the data than the one shown.\n",
        "\n",
        "---------------\n",
        "------------------\n",
        "* **Method**: The method used to estimate the model's parameters, which is `css-mle` (Conditional Sum of Squares followed by Maximum Likelihood Estimation).\n",
        "\n",
        "Okay, my apologies for the misunderstanding. Let's focus on the `css-mle` explanation and example.\n",
        "\n",
        "***\n",
        "\n",
        "### CSS-MLE: The Two-Step Process\n",
        "\n",
        "`css-mle` is a hybrid method used to fit time series models like ARMA and ARIMA. It combines two different techniques to get the best of both worlds: the speed of **Conditional Sum of Squares (CSS)** and the accuracy of **Maximum Likelihood Estimation (MLE)**.\n",
        "\n",
        "1.  **CSS (The Initial Guess)**: This first step is a quick and dirty way to find a good starting point for the model's parameters. It works by minimizing the sum of the squared prediction errors. Think of it as taking an educated guess. It's not perfectly accurate, but it gets you close to the right answer.\n",
        "\n",
        "2.  **MLE (The Final Refinement)**: The second step takes the initial guess from CSS and fine-tunes it. MLE finds the parameters that maximize the **log-likelihood**, which is a measure of how well the model explains the observed data. This process is more computationally intensive but is much more precise.\n",
        "\n",
        "Using CSS to find a starting point for MLE is a clever trick. It makes the overall process of finding the optimal model parameters much faster and more reliable than if MLE had to start its search from a random point.\n",
        "\n",
        "### A Simple Analogy\n",
        "\n",
        "Imagine you've lost your keys in a big, dark field.\n",
        "\n",
        "1.  **CSS is like using a metal detector.** The metal detector quickly scans a wide area and gives you a general idea of where the keys are. It's not precise, but it tells you, \"The keys are probably in that spot over there.\" This gives you a good starting point for your search.\n",
        "\n",
        "2.  **MLE is like shining a flashlight.** Once you're in the right area (thanks to the metal detector), you pull out a flashlight and carefully search the ground to find the exact location of the keys. You're using a more powerful and precise tool, but it only works because you're already close to your goal.\n",
        "\n",
        "In this analogy, the metal detector (CSS) provides a fast, initial guess, and the flashlight (MLE) provides the accurate, final solution. They work together to solve the problem efficiently.\n",
        "\n",
        "---------------------\n",
        "--------------------------\n",
        "* **AIC, BIC, HQIC**: The **Akaike Information Criterion (AIC)**, **Bayesian Information Criterion (BIC)**, and **Hannan-Quinn Information Criterion (HQIC)** are used to compare different models. Lower values generally indicate a better-fitting model.\n",
        "\n",
        "AIC, BIC, and HQIC are statistical tools used to select the best model from a set of candidates.\n",
        "\n",
        "They are all **information criteria** that penalize a model for having too many parameters, helping you find the right balance between how well a model fits the data and how complex it is.\n",
        "\n",
        "A model with a **lower score** on any of these criteria is generally preferred.\n",
        "\n",
        "### What the Scores Mean\n",
        "\n",
        "All three criteria work similarly: they reward models that fit the data well and penalize models that are too complex.\n",
        "\n",
        "The general idea is:\n",
        "\n",
        "$\\text{Information Criterion} = -2 \\times \\text{Log-Likelihood} + \\text{Penalty for Complexity}$\n",
        "\n",
        "* **Log-Likelihood**: This measures how well the model fits the data. A higher log-likelihood (less negative) indicates a better fit.\n",
        "\n",
        "The first part of the equation, $-2 \\ln(L)$, rewards a good fit.\n",
        "\n",
        "* **Penalty for Complexity**: This part increases as the number of parameters ($k$) in the model grows.\n",
        "\n",
        "This is crucial because adding more parameters will almost always improve the fit, but it can also lead to **overfitting**.\n",
        "\n",
        "The difference between AIC, BIC, and HQIC lies in how they calculate the penalty.\n",
        "\n",
        "* **AIC (Akaike Information Criterion)**: It has a relatively weak penalty for complexity. It's more likely to choose a more complex model, which can be good for predicting future data but sometimes leads to overfitting.\n",
        "    * **Formula**: $AIC = -2 \\ln(L) + 2k$\n",
        "* **BIC (Bayesian Information Criterion)**: It has a much stronger penalty for complexity, especially with a large number of data points. It tends to favor simpler, more parsimonious models.\n",
        "    * **Formula**: $BIC = -2 \\ln(L) + k \\ln(n)$\n",
        "* **HQIC (Hannan-Quinn Information Criterion)**: It sits somewhere between AIC and BIC, offering a moderate penalty.\n",
        "\n",
        "### Simple Example\n",
        "\n",
        "Imagine you're trying to choose between two forecasting models for a time series:\n",
        "\n",
        "* **Model A (Simple)**: An ARMA(1,1) model with 3 parameters (1 AR, 1 MA, 1 constant).\n",
        "* **Model B (Complex)**: An ARMA(5,5) model with 11 parameters (5 AR, 5 MA, 1 constant).\n",
        "\n",
        "Model B will likely fit the historical data better, but it might be \"overfitting\" by memorizing noise. To decide which is better for forecasting, you'd check the information criteria scores.\n",
        "\n",
        "| Model | AIC | BIC |\n",
        "| :--- | :--- | :--- |\n",
        "| Model A | **100** | **110** |\n",
        "| Model B | 102 | 120 |\n",
        "\n",
        "In this case, **Model A** is the clear winner because it has lower scores on both AIC and BIC.\n",
        "\n",
        "This suggests that despite Model B's potentially better fit to the historical data, its complexity isn't justified, and Model A is a better choice for making future predictions.\n",
        "\n",
        "***\n",
        "\n",
        "-----------------\n",
        "------------------------\n",
        "### Coefficients and Statistical Significance 📊\n",
        "\n",
        "This section provides the estimated coefficients and their statistical significance.\n",
        "\n",
        "### What is a Constant Term? 💡\n",
        "\n",
        "The constant term, or intercept, in a statistical model represents the **base value** of the dependent variable when all other variables are zero. In a time series model, it represents the **long-run mean** of the series, assuming it is stationary. It's the central point around which the data is expected to fluctuate.\n",
        "\n",
        "For example, in the ARMA model you provided, the constant term of 5057.0038 would be the long-run average of the `market_value` series if it were stationary.\n",
        "\n",
        "***\n",
        "\n",
        "### The Null Hypothesis of the Constant Term 📊\n",
        "\n",
        "The null hypothesis for the constant term is that it is equal to zero.\n",
        "\n",
        "* **Null Hypothesis ($H_0$)**: The constant term is zero.\n",
        "* **Alternative Hypothesis ($H_a$)**: The constant term is not zero.\n",
        "\n",
        "If the p-value for the constant term is less than your significance level (e.g., 0.05), you **reject the null hypothesis** and conclude that the constant term is statistically significant and a meaningful part of the model.\n",
        "\n",
        "***\n",
        "\n",
        "### Constant Term in Non-Stationary Data 📉\n",
        "\n",
        "When a time series is **not stationary**, the constant term in an ARMA model no longer represents a stable, long-run mean. A non-stationary series, such as one with a trend, has a mean that changes over time.\n",
        "\n",
        "In this case, the constant term in the model would be an invalid and misleading interpretation of the data's behavior. Instead of representing a stable mean, it might attempt to capture the drift or trend of the series, which is a key characteristic of non-stationary data. This is why it's critical to transform a non-stationary series (e.g., by differencing) before fitting a model to it. The constant term in a model on a differenced series would then represent the mean of the *changes* in the original series, not the mean of the series itself.\n",
        "\n",
        "* **const**: The constant term in the model. Its coefficient is **5057.0038**, and since its p-value is **0.000**, it is highly significant. The confidence interval ([0.025, 0.975]) also confirms this, as it does not contain zero.\n",
        "* **ar.L1.market_value**: This is the key autoregressive term.\n",
        "    * **coef**: The estimated coefficient for the first lag of the dependent variable, which is **`0.9985`**.\n",
        "    \n",
        "    This means that the current `market_value` is strongly correlated with its previous value.\n",
        "    \n",
        "    A value very close to 1 suggests a behavior similar to a **random walk** and indicates the series is likely non-stationary.\n",
        "    \n",
        "    A coefficient for the first lag of the dependent variable that is very close to 1 suggests a behavior similar to a random walk and indicates non-stationarity because it implies that a shock or random change to the series has a persistent, permanent effect.\n",
        "\n",
        "### The Mechanism of a Unit Root 🚶\n",
        "\n",
        "The autoregressive part of a time series model can be represented by the equation:\n",
        "$Y_t = \\text{const} + \\phi Y_{t-1} + \\epsilon_t$\n",
        "\n",
        "Here, $\\phi$ is the coefficient for the first lag.\n",
        "\n",
        "* If $\\phi$ is **less than 1** (e.g., 0.8), any random shock ($\\epsilon_t$) will gradually die out.\n",
        "\n",
        "The impact of the shock diminishes over time, and the series tends to revert to its mean. The further the series deviates from the mean, the stronger the force pulling it back.\n",
        "\n",
        "This is the definition of a **stationary** series.\n",
        "\n",
        "* If $\\phi$ is **equal to 1**, the series has a **unit root**. The equation becomes $Y_t = \\text{const} + Y_{t-1} + \\epsilon_t$.\n",
        "\n",
        "In this case, any shock ($\\epsilon_t$) is **permanently incorporated** into the series' value. The series \"remembers\" the shock and carries it forward indefinitely.\n",
        "\n",
        "This behavior is characteristic of a **random walk**, which is a non-stationary process.\n",
        "\n",
        "The coefficient of **0.9985** from your model is extremely close to 1. This means the shock's effect is almost permanent, and the series will not revert to its mean.\n",
        "\n",
        "The statistical tests in your output confirm this; the root is 1.0015, which is greater than 1, and the coefficient is statistically indistinguishable from 1. This all points to a **non-stationary** series.\n",
        "\n",
        "    * **std err**: The standard error of the coefficient estimate.\n",
        "    * **z**: The z-statistic, which is the coefficient divided by the standard error. A large z-statistic (here, 1298.863) indicates a highly significant coefficient.\n",
        "    * **P>|z|**: The p-value. A value of **`0.000`** (less than 0.05) means the coefficient is statistically significant.\n",
        "    * **[0.025, 0.975]**: The 95% confidence interval for the coefficient.\n",
        "\n",
        "***\n",
        "\n",
        "--------------------\n",
        "--------------------\n",
        "\n",
        "### Roots Section 🌳\n",
        "\n",
        "This section is crucial for checking the **stationarity** of the model.\n",
        "\n",
        "* **AR.1**: Refers to the first autoregressive root.\n",
        "    * **Real**: The real part of the root. A value of **`1.0015`** here is the key finding.\n",
        "    * **Modulus**: The absolute value of the root. A root with a modulus **greater than 1** (here, 1.0015) indicates that the time series is **non-stationary**.\n",
        "\n",
        "    In time series analysis, a **root** is a value that helps determine if a model or a time series is **stationary** or **non-stationary**. It is a solution to the characteristic equation of an autoregressive (AR) process.\n",
        "\n",
        "### The Role of the Root\n",
        "\n",
        "The location of a root is critical:\n",
        "\n",
        "* **Inside the Unit Circle (Modulus < 1)**: If all the roots of a model's characteristic equation are inside the unit circle (i.e., their absolute value or modulus is less than 1), the time series is **stationary**. This means that any random shock to the series will eventually die out, and the series will revert to its mean.\n",
        "\n",
        "* **On the Unit Circle (Modulus = 1)**: If a root is exactly on the unit circle, the series has a **unit root**. This indicates that the series is **non-stationary**, and any shock will have a permanent effect. The series will behave like a random walk.\n",
        "\n",
        "* **Outside the Unit Circle (Modulus > 1)**: If a root is outside the unit circle, the series is also **non-stationary**. Any shock will not only have a permanent effect but will also grow over time, leading to an explosive series. This is often an indication that the model is misspecified.\n",
        "\n",
        "### How to Find a Root\n",
        "\n",
        "For a simple AR(1) model: $Y_t = \\phi Y_{t-1} + \\epsilon_t$, the characteristic equation is: $1 - \\phi z = 0$.\n",
        "\n",
        "The root is found by solving for $z$: $z = 1/\\phi$.\n",
        "\n",
        "* If the coefficient $\\phi$ is 0.5, the root is $1/0.5 = 2$, which is outside the unit circle.\n",
        "* If $\\phi$ is 1, the root is 1, which is on the unit circle (a unit root).\n",
        "\n",
        "In a statistical software output, like the one you shared, the roots are calculated for you. The output **`AR.1 1.0015 +0.0000j 1.0015 0.0000`** shows a root with a modulus of 1.0015, which is greater than 1. This confirms that the series is non-stationary.\n",
        "\n",
        "The presence of a root greater than 1 confirms the conclusion from the `ar.L1` coefficient (0.9985) that the series is a random walk and not stationary. This suggests that the ARMA(1,0) model is not the correct model and that the series likely needs to be differenced (transformed into an ARIMA model) before it can be effectively modeled."
      ],
      "metadata": {
        "id": "CQTMcut6zbBc"
      }
    },
    {
      "cell_type": "markdown",
      "metadata": {
        "id": "inbbNh3GqdWM"
      },
      "source": [
        "## Higher-Lag AR Models"
      ]
    },
    {
      "cell_type": "code",
      "execution_count": 27,
      "metadata": {
        "id": "zLT4u0HnqdWM",
        "outputId": "f992dec6-5c9c-43c7-f2e4-72d1f93d4f3d",
        "colab": {
          "base_uri": "https://localhost:8080/",
          "height": 451
        }
      },
      "outputs": [
        {
          "output_type": "execute_result",
          "data": {
            "text/plain": [
              "<class 'statsmodels.iolib.summary.Summary'>\n",
              "\"\"\"\n",
              "                               SARIMAX Results                                \n",
              "==============================================================================\n",
              "Dep. Variable:           market_value   No. Observations:                 5021\n",
              "Model:                 ARIMA(2, 0, 0)   Log Likelihood              -27621.949\n",
              "Date:                Tue, 19 Aug 2025   AIC                          55251.898\n",
              "Time:                        16:37:42   BIC                          55277.984\n",
              "Sample:                    01-07-1994   HQIC                         55261.039\n",
              "                         - 04-05-2013                                         \n",
              "Covariance Type:                  opg                                         \n",
              "==============================================================================\n",
              "                 coef    std err          z      P>|z|      [0.025      0.975]\n",
              "------------------------------------------------------------------------------\n",
              "const       5089.6409    368.251     13.821      0.000    4367.881    5811.400\n",
              "ar.L1          0.9811      0.010     99.868      0.000       0.962       1.000\n",
              "ar.L2          0.0171      0.010      1.749      0.080      -0.002       0.036\n",
              "sigma2      3510.1277     41.037     85.535      0.000    3429.696    3590.560\n",
              "===================================================================================\n",
              "Ljung-Box (L1) (Q):                   0.00   Jarque-Bera (JB):              3282.81\n",
              "Prob(Q):                              0.95   Prob(JB):                         0.00\n",
              "Heteroskedasticity (H):               1.89   Skew:                            -0.19\n",
              "Prob(H) (two-sided):                  0.00   Kurtosis:                         6.94\n",
              "===================================================================================\n",
              "\n",
              "Warnings:\n",
              "[1] Covariance matrix calculated using the outer product of gradients (complex-step).\n",
              "\"\"\""
            ],
            "text/html": [
              "<table class=\"simpletable\">\n",
              "<caption>SARIMAX Results</caption>\n",
              "<tr>\n",
              "  <th>Dep. Variable:</th>     <td>market_value</td>   <th>  No. Observations:  </th>    <td>5021</td>   \n",
              "</tr>\n",
              "<tr>\n",
              "  <th>Model:</th>            <td>ARIMA(2, 0, 0)</td>  <th>  Log Likelihood     </th> <td>-27621.949</td>\n",
              "</tr>\n",
              "<tr>\n",
              "  <th>Date:</th>            <td>Tue, 19 Aug 2025</td> <th>  AIC                </th>  <td>55251.898</td>\n",
              "</tr>\n",
              "<tr>\n",
              "  <th>Time:</th>                <td>16:37:42</td>     <th>  BIC                </th>  <td>55277.984</td>\n",
              "</tr>\n",
              "<tr>\n",
              "  <th>Sample:</th>             <td>01-07-1994</td>    <th>  HQIC               </th>  <td>55261.039</td>\n",
              "</tr>\n",
              "<tr>\n",
              "  <th></th>                   <td>- 04-05-2013</td>   <th>                     </th>      <td> </td>    \n",
              "</tr>\n",
              "<tr>\n",
              "  <th>Covariance Type:</th>        <td>opg</td>       <th>                     </th>      <td> </td>    \n",
              "</tr>\n",
              "</table>\n",
              "<table class=\"simpletable\">\n",
              "<tr>\n",
              "     <td></td>       <th>coef</th>     <th>std err</th>      <th>z</th>      <th>P>|z|</th>  <th>[0.025</th>    <th>0.975]</th>  \n",
              "</tr>\n",
              "<tr>\n",
              "  <th>const</th>  <td> 5089.6409</td> <td>  368.251</td> <td>   13.821</td> <td> 0.000</td> <td> 4367.881</td> <td> 5811.400</td>\n",
              "</tr>\n",
              "<tr>\n",
              "  <th>ar.L1</th>  <td>    0.9811</td> <td>    0.010</td> <td>   99.868</td> <td> 0.000</td> <td>    0.962</td> <td>    1.000</td>\n",
              "</tr>\n",
              "<tr>\n",
              "  <th>ar.L2</th>  <td>    0.0171</td> <td>    0.010</td> <td>    1.749</td> <td> 0.080</td> <td>   -0.002</td> <td>    0.036</td>\n",
              "</tr>\n",
              "<tr>\n",
              "  <th>sigma2</th> <td> 3510.1277</td> <td>   41.037</td> <td>   85.535</td> <td> 0.000</td> <td> 3429.696</td> <td> 3590.560</td>\n",
              "</tr>\n",
              "</table>\n",
              "<table class=\"simpletable\">\n",
              "<tr>\n",
              "  <th>Ljung-Box (L1) (Q):</th>     <td>0.00</td> <th>  Jarque-Bera (JB):  </th> <td>3282.81</td>\n",
              "</tr>\n",
              "<tr>\n",
              "  <th>Prob(Q):</th>                <td>0.95</td> <th>  Prob(JB):          </th>  <td>0.00</td>  \n",
              "</tr>\n",
              "<tr>\n",
              "  <th>Heteroskedasticity (H):</th> <td>1.89</td> <th>  Skew:              </th>  <td>-0.19</td> \n",
              "</tr>\n",
              "<tr>\n",
              "  <th>Prob(H) (two-sided):</th>    <td>0.00</td> <th>  Kurtosis:          </th>  <td>6.94</td>  \n",
              "</tr>\n",
              "</table><br/><br/>Warnings:<br/>[1] Covariance matrix calculated using the outer product of gradients (complex-step)."
            ],
            "text/latex": "\\begin{center}\n\\begin{tabular}{lclc}\n\\toprule\n\\textbf{Dep. Variable:}          &  market\\_value   & \\textbf{  No. Observations:  } &    5021     \\\\\n\\textbf{Model:}                  &  ARIMA(2, 0, 0)  & \\textbf{  Log Likelihood     } & -27621.949  \\\\\n\\textbf{Date:}                   & Tue, 19 Aug 2025 & \\textbf{  AIC                } & 55251.898   \\\\\n\\textbf{Time:}                   &     16:37:42     & \\textbf{  BIC                } & 55277.984   \\\\\n\\textbf{Sample:}                 &    01-07-1994    & \\textbf{  HQIC               } & 55261.039   \\\\\n\\textbf{}                        &   - 04-05-2013   & \\textbf{                     } &             \\\\\n\\textbf{Covariance Type:}        &       opg        & \\textbf{                     } &             \\\\\n\\bottomrule\n\\end{tabular}\n\\begin{tabular}{lcccccc}\n                & \\textbf{coef} & \\textbf{std err} & \\textbf{z} & \\textbf{P$> |$z$|$} & \\textbf{[0.025} & \\textbf{0.975]}  \\\\\n\\midrule\n\\textbf{const}  &    5089.6409  &      368.251     &    13.821  &         0.000        &     4367.881    &     5811.400     \\\\\n\\textbf{ar.L1}  &       0.9811  &        0.010     &    99.868  &         0.000        &        0.962    &        1.000     \\\\\n\\textbf{ar.L2}  &       0.0171  &        0.010     &     1.749  &         0.080        &       -0.002    &        0.036     \\\\\n\\textbf{sigma2} &    3510.1277  &       41.037     &    85.535  &         0.000        &     3429.696    &     3590.560     \\\\\n\\bottomrule\n\\end{tabular}\n\\begin{tabular}{lclc}\n\\textbf{Ljung-Box (L1) (Q):}     & 0.00 & \\textbf{  Jarque-Bera (JB):  } & 3282.81  \\\\\n\\textbf{Prob(Q):}                & 0.95 & \\textbf{  Prob(JB):          } &   0.00   \\\\\n\\textbf{Heteroskedasticity (H):} & 1.89 & \\textbf{  Skew:              } &  -0.19   \\\\\n\\textbf{Prob(H) (two-sided):}    & 0.00 & \\textbf{  Kurtosis:          } &   6.94   \\\\\n\\bottomrule\n\\end{tabular}\n%\\caption{SARIMAX Results}\n\\end{center}\n\nWarnings: \\newline\n [1] Covariance matrix calculated using the outer product of gradients (complex-step)."
          },
          "metadata": {},
          "execution_count": 27
        }
      ],
      "source": [
        "model_ar_2 = ARIMA(df.market_value, order=(2,0,0)) # Changed from ARMA to ARIMA and added integrated order\n",
        "results_ar_2 = model_ar_2.fit()\n",
        "results_ar_2.summary()"
      ]
    },
    {
      "cell_type": "code",
      "execution_count": 28,
      "metadata": {
        "id": "7OaV_og5qdWM",
        "outputId": "65d0b947-999d-4736-85c3-1c57db860fc7",
        "colab": {
          "base_uri": "https://localhost:8080/",
          "height": 473
        }
      },
      "outputs": [
        {
          "output_type": "execute_result",
          "data": {
            "text/plain": [
              "<class 'statsmodels.iolib.summary.Summary'>\n",
              "\"\"\"\n",
              "                               SARIMAX Results                                \n",
              "==============================================================================\n",
              "Dep. Variable:           market_value   No. Observations:                 5021\n",
              "Model:                 ARIMA(3, 0, 0)   Log Likelihood              -27615.962\n",
              "Date:                Tue, 19 Aug 2025   AIC                          55241.925\n",
              "Time:                        16:37:47   BIC                          55274.532\n",
              "Sample:                    01-07-1994   HQIC                         55253.351\n",
              "                         - 04-05-2013                                         \n",
              "Covariance Type:                  opg                                         \n",
              "==============================================================================\n",
              "                 coef    std err          z      P>|z|      [0.025      0.975]\n",
              "------------------------------------------------------------------------------\n",
              "const       5089.6409    378.583     13.444      0.000    4347.631    5831.651\n",
              "ar.L1          0.9802      0.010     99.076      0.000       0.961       1.000\n",
              "ar.L2         -0.0309      0.013     -2.315      0.021      -0.057      -0.005\n",
              "ar.L3          0.0489      0.009      5.383      0.000       0.031       0.067\n",
              "sigma2      3502.2643     41.020     85.379      0.000    3421.866    3582.662\n",
              "===================================================================================\n",
              "Ljung-Box (L1) (Q):                   0.06   Jarque-Bera (JB):              3286.97\n",
              "Prob(Q):                              0.80   Prob(JB):                         0.00\n",
              "Heteroskedasticity (H):               1.90   Skew:                            -0.22\n",
              "Prob(H) (two-sided):                  0.00   Kurtosis:                         6.94\n",
              "===================================================================================\n",
              "\n",
              "Warnings:\n",
              "[1] Covariance matrix calculated using the outer product of gradients (complex-step).\n",
              "\"\"\""
            ],
            "text/html": [
              "<table class=\"simpletable\">\n",
              "<caption>SARIMAX Results</caption>\n",
              "<tr>\n",
              "  <th>Dep. Variable:</th>     <td>market_value</td>   <th>  No. Observations:  </th>    <td>5021</td>   \n",
              "</tr>\n",
              "<tr>\n",
              "  <th>Model:</th>            <td>ARIMA(3, 0, 0)</td>  <th>  Log Likelihood     </th> <td>-27615.962</td>\n",
              "</tr>\n",
              "<tr>\n",
              "  <th>Date:</th>            <td>Tue, 19 Aug 2025</td> <th>  AIC                </th>  <td>55241.925</td>\n",
              "</tr>\n",
              "<tr>\n",
              "  <th>Time:</th>                <td>16:37:47</td>     <th>  BIC                </th>  <td>55274.532</td>\n",
              "</tr>\n",
              "<tr>\n",
              "  <th>Sample:</th>             <td>01-07-1994</td>    <th>  HQIC               </th>  <td>55253.351</td>\n",
              "</tr>\n",
              "<tr>\n",
              "  <th></th>                   <td>- 04-05-2013</td>   <th>                     </th>      <td> </td>    \n",
              "</tr>\n",
              "<tr>\n",
              "  <th>Covariance Type:</th>        <td>opg</td>       <th>                     </th>      <td> </td>    \n",
              "</tr>\n",
              "</table>\n",
              "<table class=\"simpletable\">\n",
              "<tr>\n",
              "     <td></td>       <th>coef</th>     <th>std err</th>      <th>z</th>      <th>P>|z|</th>  <th>[0.025</th>    <th>0.975]</th>  \n",
              "</tr>\n",
              "<tr>\n",
              "  <th>const</th>  <td> 5089.6409</td> <td>  378.583</td> <td>   13.444</td> <td> 0.000</td> <td> 4347.631</td> <td> 5831.651</td>\n",
              "</tr>\n",
              "<tr>\n",
              "  <th>ar.L1</th>  <td>    0.9802</td> <td>    0.010</td> <td>   99.076</td> <td> 0.000</td> <td>    0.961</td> <td>    1.000</td>\n",
              "</tr>\n",
              "<tr>\n",
              "  <th>ar.L2</th>  <td>   -0.0309</td> <td>    0.013</td> <td>   -2.315</td> <td> 0.021</td> <td>   -0.057</td> <td>   -0.005</td>\n",
              "</tr>\n",
              "<tr>\n",
              "  <th>ar.L3</th>  <td>    0.0489</td> <td>    0.009</td> <td>    5.383</td> <td> 0.000</td> <td>    0.031</td> <td>    0.067</td>\n",
              "</tr>\n",
              "<tr>\n",
              "  <th>sigma2</th> <td> 3502.2643</td> <td>   41.020</td> <td>   85.379</td> <td> 0.000</td> <td> 3421.866</td> <td> 3582.662</td>\n",
              "</tr>\n",
              "</table>\n",
              "<table class=\"simpletable\">\n",
              "<tr>\n",
              "  <th>Ljung-Box (L1) (Q):</th>     <td>0.06</td> <th>  Jarque-Bera (JB):  </th> <td>3286.97</td>\n",
              "</tr>\n",
              "<tr>\n",
              "  <th>Prob(Q):</th>                <td>0.80</td> <th>  Prob(JB):          </th>  <td>0.00</td>  \n",
              "</tr>\n",
              "<tr>\n",
              "  <th>Heteroskedasticity (H):</th> <td>1.90</td> <th>  Skew:              </th>  <td>-0.22</td> \n",
              "</tr>\n",
              "<tr>\n",
              "  <th>Prob(H) (two-sided):</th>    <td>0.00</td> <th>  Kurtosis:          </th>  <td>6.94</td>  \n",
              "</tr>\n",
              "</table><br/><br/>Warnings:<br/>[1] Covariance matrix calculated using the outer product of gradients (complex-step)."
            ],
            "text/latex": "\\begin{center}\n\\begin{tabular}{lclc}\n\\toprule\n\\textbf{Dep. Variable:}          &  market\\_value   & \\textbf{  No. Observations:  } &    5021     \\\\\n\\textbf{Model:}                  &  ARIMA(3, 0, 0)  & \\textbf{  Log Likelihood     } & -27615.962  \\\\\n\\textbf{Date:}                   & Tue, 19 Aug 2025 & \\textbf{  AIC                } & 55241.925   \\\\\n\\textbf{Time:}                   &     16:37:47     & \\textbf{  BIC                } & 55274.532   \\\\\n\\textbf{Sample:}                 &    01-07-1994    & \\textbf{  HQIC               } & 55253.351   \\\\\n\\textbf{}                        &   - 04-05-2013   & \\textbf{                     } &             \\\\\n\\textbf{Covariance Type:}        &       opg        & \\textbf{                     } &             \\\\\n\\bottomrule\n\\end{tabular}\n\\begin{tabular}{lcccccc}\n                & \\textbf{coef} & \\textbf{std err} & \\textbf{z} & \\textbf{P$> |$z$|$} & \\textbf{[0.025} & \\textbf{0.975]}  \\\\\n\\midrule\n\\textbf{const}  &    5089.6409  &      378.583     &    13.444  &         0.000        &     4347.631    &     5831.651     \\\\\n\\textbf{ar.L1}  &       0.9802  &        0.010     &    99.076  &         0.000        &        0.961    &        1.000     \\\\\n\\textbf{ar.L2}  &      -0.0309  &        0.013     &    -2.315  &         0.021        &       -0.057    &       -0.005     \\\\\n\\textbf{ar.L3}  &       0.0489  &        0.009     &     5.383  &         0.000        &        0.031    &        0.067     \\\\\n\\textbf{sigma2} &    3502.2643  &       41.020     &    85.379  &         0.000        &     3421.866    &     3582.662     \\\\\n\\bottomrule\n\\end{tabular}\n\\begin{tabular}{lclc}\n\\textbf{Ljung-Box (L1) (Q):}     & 0.06 & \\textbf{  Jarque-Bera (JB):  } & 3286.97  \\\\\n\\textbf{Prob(Q):}                & 0.80 & \\textbf{  Prob(JB):          } &   0.00   \\\\\n\\textbf{Heteroskedasticity (H):} & 1.90 & \\textbf{  Skew:              } &  -0.22   \\\\\n\\textbf{Prob(H) (two-sided):}    & 0.00 & \\textbf{  Kurtosis:          } &   6.94   \\\\\n\\bottomrule\n\\end{tabular}\n%\\caption{SARIMAX Results}\n\\end{center}\n\nWarnings: \\newline\n [1] Covariance matrix calculated using the outer product of gradients (complex-step)."
          },
          "metadata": {},
          "execution_count": 28
        }
      ],
      "source": [
        "model_ar_3 = ARIMA(df.market_value, order=(3,0,0)) # Changed from ARMA to ARIMA and added integrated order\n",
        "results_ar_3 = model_ar_3.fit()\n",
        "results_ar_3.summary()"
      ]
    },
    {
      "cell_type": "code",
      "execution_count": 29,
      "metadata": {
        "id": "ZCZk5aDBqdWN",
        "outputId": "2ff3d219-b1c6-413f-9b64-5d2e86aa2c1b",
        "colab": {
          "base_uri": "https://localhost:8080/",
          "height": 494
        }
      },
      "outputs": [
        {
          "output_type": "execute_result",
          "data": {
            "text/plain": [
              "<class 'statsmodels.iolib.summary.Summary'>\n",
              "\"\"\"\n",
              "                               SARIMAX Results                                \n",
              "==============================================================================\n",
              "Dep. Variable:           market_value   No. Observations:                 5021\n",
              "Model:                 ARIMA(4, 0, 0)   Log Likelihood              -27602.680\n",
              "Date:                Tue, 19 Aug 2025   AIC                          55217.359\n",
              "Time:                        16:37:51   BIC                          55256.488\n",
              "Sample:                    01-07-1994   HQIC                         55231.070\n",
              "                         - 04-05-2013                                         \n",
              "Covariance Type:                  opg                                         \n",
              "==============================================================================\n",
              "                 coef    std err          z      P>|z|      [0.025      0.975]\n",
              "------------------------------------------------------------------------------\n",
              "const       5089.6409    391.960     12.985      0.000    4321.414    5857.868\n",
              "ar.L1          0.9767      0.010     97.788      0.000       0.957       0.996\n",
              "ar.L2         -0.0287      0.013     -2.129      0.033      -0.055      -0.002\n",
              "ar.L3         -0.0224      0.013     -1.784      0.074      -0.047       0.002\n",
              "ar.L4          0.0728      0.009      8.033      0.000       0.055       0.091\n",
              "sigma2      3484.0262     41.922     83.108      0.000    3401.861    3566.191\n",
              "===================================================================================\n",
              "Ljung-Box (L1) (Q):                   0.02   Jarque-Bera (JB):              3044.18\n",
              "Prob(Q):                              0.88   Prob(JB):                         0.00\n",
              "Heteroskedasticity (H):               1.90   Skew:                            -0.28\n",
              "Prob(H) (two-sided):                  0.00   Kurtosis:                         6.77\n",
              "===================================================================================\n",
              "\n",
              "Warnings:\n",
              "[1] Covariance matrix calculated using the outer product of gradients (complex-step).\n",
              "\"\"\""
            ],
            "text/html": [
              "<table class=\"simpletable\">\n",
              "<caption>SARIMAX Results</caption>\n",
              "<tr>\n",
              "  <th>Dep. Variable:</th>     <td>market_value</td>   <th>  No. Observations:  </th>    <td>5021</td>   \n",
              "</tr>\n",
              "<tr>\n",
              "  <th>Model:</th>            <td>ARIMA(4, 0, 0)</td>  <th>  Log Likelihood     </th> <td>-27602.680</td>\n",
              "</tr>\n",
              "<tr>\n",
              "  <th>Date:</th>            <td>Tue, 19 Aug 2025</td> <th>  AIC                </th>  <td>55217.359</td>\n",
              "</tr>\n",
              "<tr>\n",
              "  <th>Time:</th>                <td>16:37:51</td>     <th>  BIC                </th>  <td>55256.488</td>\n",
              "</tr>\n",
              "<tr>\n",
              "  <th>Sample:</th>             <td>01-07-1994</td>    <th>  HQIC               </th>  <td>55231.070</td>\n",
              "</tr>\n",
              "<tr>\n",
              "  <th></th>                   <td>- 04-05-2013</td>   <th>                     </th>      <td> </td>    \n",
              "</tr>\n",
              "<tr>\n",
              "  <th>Covariance Type:</th>        <td>opg</td>       <th>                     </th>      <td> </td>    \n",
              "</tr>\n",
              "</table>\n",
              "<table class=\"simpletable\">\n",
              "<tr>\n",
              "     <td></td>       <th>coef</th>     <th>std err</th>      <th>z</th>      <th>P>|z|</th>  <th>[0.025</th>    <th>0.975]</th>  \n",
              "</tr>\n",
              "<tr>\n",
              "  <th>const</th>  <td> 5089.6409</td> <td>  391.960</td> <td>   12.985</td> <td> 0.000</td> <td> 4321.414</td> <td> 5857.868</td>\n",
              "</tr>\n",
              "<tr>\n",
              "  <th>ar.L1</th>  <td>    0.9767</td> <td>    0.010</td> <td>   97.788</td> <td> 0.000</td> <td>    0.957</td> <td>    0.996</td>\n",
              "</tr>\n",
              "<tr>\n",
              "  <th>ar.L2</th>  <td>   -0.0287</td> <td>    0.013</td> <td>   -2.129</td> <td> 0.033</td> <td>   -0.055</td> <td>   -0.002</td>\n",
              "</tr>\n",
              "<tr>\n",
              "  <th>ar.L3</th>  <td>   -0.0224</td> <td>    0.013</td> <td>   -1.784</td> <td> 0.074</td> <td>   -0.047</td> <td>    0.002</td>\n",
              "</tr>\n",
              "<tr>\n",
              "  <th>ar.L4</th>  <td>    0.0728</td> <td>    0.009</td> <td>    8.033</td> <td> 0.000</td> <td>    0.055</td> <td>    0.091</td>\n",
              "</tr>\n",
              "<tr>\n",
              "  <th>sigma2</th> <td> 3484.0262</td> <td>   41.922</td> <td>   83.108</td> <td> 0.000</td> <td> 3401.861</td> <td> 3566.191</td>\n",
              "</tr>\n",
              "</table>\n",
              "<table class=\"simpletable\">\n",
              "<tr>\n",
              "  <th>Ljung-Box (L1) (Q):</th>     <td>0.02</td> <th>  Jarque-Bera (JB):  </th> <td>3044.18</td>\n",
              "</tr>\n",
              "<tr>\n",
              "  <th>Prob(Q):</th>                <td>0.88</td> <th>  Prob(JB):          </th>  <td>0.00</td>  \n",
              "</tr>\n",
              "<tr>\n",
              "  <th>Heteroskedasticity (H):</th> <td>1.90</td> <th>  Skew:              </th>  <td>-0.28</td> \n",
              "</tr>\n",
              "<tr>\n",
              "  <th>Prob(H) (two-sided):</th>    <td>0.00</td> <th>  Kurtosis:          </th>  <td>6.77</td>  \n",
              "</tr>\n",
              "</table><br/><br/>Warnings:<br/>[1] Covariance matrix calculated using the outer product of gradients (complex-step)."
            ],
            "text/latex": "\\begin{center}\n\\begin{tabular}{lclc}\n\\toprule\n\\textbf{Dep. Variable:}          &  market\\_value   & \\textbf{  No. Observations:  } &    5021     \\\\\n\\textbf{Model:}                  &  ARIMA(4, 0, 0)  & \\textbf{  Log Likelihood     } & -27602.680  \\\\\n\\textbf{Date:}                   & Tue, 19 Aug 2025 & \\textbf{  AIC                } & 55217.359   \\\\\n\\textbf{Time:}                   &     16:37:51     & \\textbf{  BIC                } & 55256.488   \\\\\n\\textbf{Sample:}                 &    01-07-1994    & \\textbf{  HQIC               } & 55231.070   \\\\\n\\textbf{}                        &   - 04-05-2013   & \\textbf{                     } &             \\\\\n\\textbf{Covariance Type:}        &       opg        & \\textbf{                     } &             \\\\\n\\bottomrule\n\\end{tabular}\n\\begin{tabular}{lcccccc}\n                & \\textbf{coef} & \\textbf{std err} & \\textbf{z} & \\textbf{P$> |$z$|$} & \\textbf{[0.025} & \\textbf{0.975]}  \\\\\n\\midrule\n\\textbf{const}  &    5089.6409  &      391.960     &    12.985  &         0.000        &     4321.414    &     5857.868     \\\\\n\\textbf{ar.L1}  &       0.9767  &        0.010     &    97.788  &         0.000        &        0.957    &        0.996     \\\\\n\\textbf{ar.L2}  &      -0.0287  &        0.013     &    -2.129  &         0.033        &       -0.055    &       -0.002     \\\\\n\\textbf{ar.L3}  &      -0.0224  &        0.013     &    -1.784  &         0.074        &       -0.047    &        0.002     \\\\\n\\textbf{ar.L4}  &       0.0728  &        0.009     &     8.033  &         0.000        &        0.055    &        0.091     \\\\\n\\textbf{sigma2} &    3484.0262  &       41.922     &    83.108  &         0.000        &     3401.861    &     3566.191     \\\\\n\\bottomrule\n\\end{tabular}\n\\begin{tabular}{lclc}\n\\textbf{Ljung-Box (L1) (Q):}     & 0.02 & \\textbf{  Jarque-Bera (JB):  } & 3044.18  \\\\\n\\textbf{Prob(Q):}                & 0.88 & \\textbf{  Prob(JB):          } &   0.00   \\\\\n\\textbf{Heteroskedasticity (H):} & 1.90 & \\textbf{  Skew:              } &  -0.28   \\\\\n\\textbf{Prob(H) (two-sided):}    & 0.00 & \\textbf{  Kurtosis:          } &   6.77   \\\\\n\\bottomrule\n\\end{tabular}\n%\\caption{SARIMAX Results}\n\\end{center}\n\nWarnings: \\newline\n [1] Covariance matrix calculated using the outer product of gradients (complex-step)."
          },
          "metadata": {},
          "execution_count": 29
        }
      ],
      "source": [
        "model_ar_4 = ARIMA(df.market_value, order=(4,0,0)) # Changed from ARMA to ARIMA and added integrated order\n",
        "results_ar_4 = model_ar_4.fit()\n",
        "results_ar_4.summary()"
      ]
    },
    {
      "cell_type": "markdown",
      "source": [
        "Based on the image, you've provided the results of an **AR(4) model** (a pure autoregressive model with 4 lags) fitted to a time series. The output displays the model's coefficients and statistical significance, along with the roots of the characteristic equation.\n",
        "\n",
        "Let's break down the key parts of the output:\n",
        "\n",
        "### Coefficients and P-Values 📊\n",
        "\n",
        "* **`const`**: The constant term, or intercept, of the model. Its coefficient is **5493.1989**. With a **p-value of 0.000**, it is highly statistically significant, meaning it is a meaningful part of the model and likely not zero.\n",
        "* **`ar.L1` to `ar.L4`**: These are the coefficients for the four autoregressive lags. They show how much the previous values of the series influence the current value.\n",
        "    * **`ar.L1` (0.9771)** and **`ar.L4` (0.0729)** have **p-values of 0.000**, making them highly significant. This means the current value is strongly dependent on the values from the previous time step and the fourth time step.\n",
        "    * **`ar.L2` (-0.0286)** and **`ar.L3` (-0.0224)** have **p-values of 0.146 and 0.256**, respectively. Since these are greater than 0.05, these coefficients are **not statistically significant**, suggesting that the values from the second and third lags do not contribute meaningfully to predicting the current value.\n",
        "\n",
        "### Roots 🌳\n",
        "\n",
        "The \"Roots\" section is crucial for checking the model's **stationarity**. The key is to look at the **Modulus** of the roots.\n",
        "\n",
        "* **AR.1**: The first root has a modulus of **1.0009**, which is greater than 1. This indicates a **unit root** and confirms that the time series is **non-stationary**.\n",
        "* **AR.2**: The second root has a modulus of **2.2954**, which is also greater than 1. This is also a sign of a non-stationary series.\n",
        "* The presence of roots with a modulus greater than 1 means the series is **not stationary**. Any random shock will have a permanent and even an explosive effect, as suggested by the modulus of AR.2.\n",
        "\n",
        "In the context of a 95% confidence interval, the numbers **0.025** and **0.975** correspond to the percentiles of a standard statistical distribution.\n",
        "\n",
        "* The **0.025** value represents the **2.5th percentile**.\n",
        "* The **0.975** value represents the **97.5th percentile**.\n",
        "\n",
        "Together, these two values define the middle **95%** of the data. For a two-sided confidence interval, we exclude the lowest 2.5% and the highest 2.5% of the values to get the central 95% range.\n",
        "\n",
        "This interval represents a range of values where we are 95% confident that the true population parameter lies.\n",
        "\n",
        "-----------------\n",
        "**Conclusion:**\n",
        "\n",
        "The results show that while some of the autoregressive lags are significant, the presence of roots with a modulus greater than 1 confirms that the time series is **non-stationary**.\n",
        "\n",
        "This model is likely not the correct choice, and the data should be differenced to achieve stationarity before modeling."
      ],
      "metadata": {
        "id": "7LYqHLtxHh6J"
      }
    },
    {
      "cell_type": "markdown",
      "metadata": {
        "id": "ljWpAucQqdWN"
      },
      "source": [
        "## LLR Test\n",
        "The **Likelihood-Ratio Test (LRT)** is a statistical test used to compare the fit of two nested models. It helps determine if a more complex model (with more parameters) provides a significantly better fit to the data than a simpler model (with fewer parameters).\n",
        "\n",
        "-----------------------------\n",
        "### The Core Idea\n",
        "\n",
        "The test works by comparing the **log-likelihood** of two models:\n",
        "\n",
        "* **Model 0 (the null model)**: This is the simpler, less complex model.\n",
        "* **Model 1 (the alternative model)**: This is the more complex model, which contains all the parameters of the null model plus at least one additional parameter.\n",
        "\n",
        "The test statistic is calculated as twice the difference between the log-likelihoods of the two models:\n",
        "\n",
        "$LRT = 2 \\times (\\ln(L_1) - \\ln(L_0))$\n",
        "\n",
        "Where $\\ln(L_1)$ is the log-likelihood of the complex model and $\\ln(L_0)$ is the log-likelihood of the simpler model.\n",
        "\n",
        "----------------------------\n",
        "### Interpretation\n",
        "\n",
        "Under the null hypothesis that the simpler model is correct, the test statistic follows a **chi-squared distribution** with degrees of freedom equal to the difference in the number of parameters between the two models.\n",
        "\n",
        "* **Null Hypothesis ($H_0$)**: The simpler model is sufficient; the added parameters in the complex model are not needed.\n",
        "* **Alternative Hypothesis ($H_a$)**: The complex model is significantly better than the simpler one.\n",
        "\n",
        "You interpret the results by looking at the p-value:\n",
        "* If the **p-value is small** (typically less than 0.05), you **reject the null hypothesis**. This means the more complex model provides a significantly better fit to the data.\n",
        "* If the **p-value is large**, you **fail to reject the null hypothesis**. This suggests that the added complexity is not justified, and the simpler model is preferred."
      ]
    },
    {
      "cell_type": "code",
      "execution_count": 30,
      "metadata": {
        "id": "PTzhzDB0qdWN"
      },
      "outputs": [],
      "source": [
        "def LLR_test(mod_1, mod_2, DF=1):\n",
        "    L1 = mod_1.fit().llf\n",
        "    L2 = mod_2.fit().llf\n",
        "    LR = (2*(L2-L1))\n",
        "    p = chi2.sf(LR, DF).round(3)\n",
        "    return p"
      ]
    },
    {
      "cell_type": "markdown",
      "metadata": {
        "id": "tceHGgavqdWN"
      },
      "source": [
        "## Comparing Higher-Lag AR Models"
      ]
    },
    {
      "cell_type": "code",
      "execution_count": 31,
      "metadata": {
        "id": "6wfj8q35qdWN",
        "outputId": "9ea28cc0-03c3-44e4-fc95-66c51d7e5a31",
        "colab": {
          "base_uri": "https://localhost:8080/"
        }
      },
      "outputs": [
        {
          "output_type": "execute_result",
          "data": {
            "text/plain": [
              "np.float64(0.001)"
            ]
          },
          "metadata": {},
          "execution_count": 31
        }
      ],
      "source": [
        "LLR_test(model_ar_2, model_ar_3)"
      ]
    },
    {
      "cell_type": "code",
      "execution_count": 32,
      "metadata": {
        "id": "SkGuToq8qdWO",
        "outputId": "ad38c429-20b1-4d9e-b381-bb0408625b2c",
        "colab": {
          "base_uri": "https://localhost:8080/"
        }
      },
      "outputs": [
        {
          "output_type": "execute_result",
          "data": {
            "text/plain": [
              "np.float64(0.0)"
            ]
          },
          "metadata": {},
          "execution_count": 32
        }
      ],
      "source": [
        "LLR_test(model_ar_3, model_ar_4)"
      ]
    },
    {
      "cell_type": "code",
      "execution_count": 33,
      "metadata": {
        "id": "u0TidR-RqdWO",
        "outputId": "e6a3e5bd-02cc-48de-863b-e34677a1c2bb",
        "colab": {
          "base_uri": "https://localhost:8080/"
        }
      },
      "outputs": [
        {
          "output_type": "stream",
          "name": "stdout",
          "text": [
            "                               SARIMAX Results                                \n",
            "==============================================================================\n",
            "Dep. Variable:           market_value   No. Observations:                 5021\n",
            "Model:                 ARIMA(4, 0, 0)   Log Likelihood              -27602.680\n",
            "Date:                Tue, 19 Aug 2025   AIC                          55217.359\n",
            "Time:                        16:38:16   BIC                          55256.488\n",
            "Sample:                    01-07-1994   HQIC                         55231.070\n",
            "                         - 04-05-2013                                         \n",
            "Covariance Type:                  opg                                         \n",
            "==============================================================================\n",
            "                 coef    std err          z      P>|z|      [0.025      0.975]\n",
            "------------------------------------------------------------------------------\n",
            "const       5089.6409    391.960     12.985      0.000    4321.414    5857.868\n",
            "ar.L1          0.9767      0.010     97.788      0.000       0.957       0.996\n",
            "ar.L2         -0.0287      0.013     -2.129      0.033      -0.055      -0.002\n",
            "ar.L3         -0.0224      0.013     -1.784      0.074      -0.047       0.002\n",
            "ar.L4          0.0728      0.009      8.033      0.000       0.055       0.091\n",
            "sigma2      3484.0262     41.922     83.108      0.000    3401.861    3566.191\n",
            "===================================================================================\n",
            "Ljung-Box (L1) (Q):                   0.02   Jarque-Bera (JB):              3044.18\n",
            "Prob(Q):                              0.88   Prob(JB):                         0.00\n",
            "Heteroskedasticity (H):               1.90   Skew:                            -0.28\n",
            "Prob(H) (two-sided):                  0.00   Kurtosis:                         6.77\n",
            "===================================================================================\n",
            "\n",
            "Warnings:\n",
            "[1] Covariance matrix calculated using the outer product of gradients (complex-step).\n",
            "LLR test: 0.0\n"
          ]
        }
      ],
      "source": [
        "model_ar_4 = ARIMA(df.market_value, order=[4,0,0]) # Changed from ARMA to ARIMA and added integrated order\n",
        "results_ar_4 = model_ar_4.fit()\n",
        "print(results_ar_4.summary())\n",
        "print (\"LLR test: \" + str(LLR_test(model_ar_3, model_ar_4)))"
      ]
    },
    {
      "cell_type": "code",
      "execution_count": 34,
      "metadata": {
        "id": "1cvghpD3qdWO",
        "outputId": "b63f425d-3cdf-4063-a1bd-cbe07962b52d",
        "colab": {
          "base_uri": "https://localhost:8080/"
        }
      },
      "outputs": [
        {
          "output_type": "stream",
          "name": "stdout",
          "text": [
            "                               SARIMAX Results                                \n",
            "==============================================================================\n",
            "Dep. Variable:           market_value   No. Observations:                 5021\n",
            "Model:                 ARIMA(5, 0, 0)   Log Likelihood              -27600.460\n",
            "Date:                Tue, 19 Aug 2025   AIC                          55214.920\n",
            "Time:                        16:38:43   BIC                          55260.570\n",
            "Sample:                    01-07-1994   HQIC                         55230.916\n",
            "                         - 04-05-2013                                         \n",
            "Covariance Type:                  opg                                         \n",
            "==============================================================================\n",
            "                 coef    std err          z      P>|z|      [0.025      0.975]\n",
            "------------------------------------------------------------------------------\n",
            "const       5089.6409    386.229     13.178      0.000    4332.647    5846.635\n",
            "ar.L1          0.9788      0.010     97.867      0.000       0.959       0.998\n",
            "ar.L2         -0.0293      0.013     -2.176      0.030      -0.056      -0.003\n",
            "ar.L3         -0.0233      0.013     -1.849      0.065      -0.048       0.001\n",
            "ar.L4          0.1018      0.013      7.895      0.000       0.077       0.127\n",
            "ar.L5         -0.0297      0.009     -3.312      0.001      -0.047      -0.012\n",
            "sigma2      3481.5788     42.261     82.382      0.000    3398.748    3564.409\n",
            "===================================================================================\n",
            "Ljung-Box (L1) (Q):                   0.01   Jarque-Bera (JB):              2964.41\n",
            "Prob(Q):                              0.94   Prob(JB):                         0.00\n",
            "Heteroskedasticity (H):               1.89   Skew:                            -0.26\n",
            "Prob(H) (two-sided):                  0.00   Kurtosis:                         6.73\n",
            "===================================================================================\n",
            "\n",
            "Warnings:\n",
            "[1] Covariance matrix calculated using the outer product of gradients (complex-step).\n",
            "\n",
            "LLR test p-value = 0.035\n"
          ]
        }
      ],
      "source": [
        "model_ar_5 = ARIMA(df.market_value, order=(5,0,0)) # Changed from ARMA to ARIMA and added integrated order\n",
        "results_ar_5 = model_ar_5.fit()\n",
        "print(results_ar_5.summary())\n",
        "print(\"\\nLLR test p-value = \" + str(LLR_test(model_ar_4, model_ar_5)))"
      ]
    },
    {
      "cell_type": "code",
      "execution_count": 35,
      "metadata": {
        "id": "zCZCiN_hqdWP",
        "outputId": "27a1c092-10a2-46a5-9629-d06774b3722d",
        "colab": {
          "base_uri": "https://localhost:8080/"
        }
      },
      "outputs": [
        {
          "output_type": "stream",
          "name": "stdout",
          "text": [
            "                               SARIMAX Results                                \n",
            "==============================================================================\n",
            "Dep. Variable:           market_value   No. Observations:                 5021\n",
            "Model:                 ARIMA(6, 0, 0)   Log Likelihood              -27596.587\n",
            "Date:                Tue, 19 Aug 2025   AIC                          55209.174\n",
            "Time:                        16:39:18   BIC                          55261.345\n",
            "Sample:                    01-07-1994   HQIC                         55227.455\n",
            "                         - 04-05-2013                                         \n",
            "Covariance Type:                  opg                                         \n",
            "==============================================================================\n",
            "                 coef    std err          z      P>|z|      [0.025      0.975]\n",
            "------------------------------------------------------------------------------\n",
            "const       5089.6409    396.931     12.822      0.000    4311.670    5867.611\n",
            "ar.L1          0.9800      0.010     96.873      0.000       0.960       1.000\n",
            "ar.L2         -0.0333      0.014     -2.438      0.015      -0.060      -0.007\n",
            "ar.L3         -0.0224      0.013     -1.772      0.076      -0.047       0.002\n",
            "ar.L4          0.1029      0.013      7.983      0.000       0.078       0.128\n",
            "ar.L5         -0.0682      0.012     -5.598      0.000      -0.092      -0.044\n",
            "ar.L6          0.0393      0.009      4.384      0.000       0.022       0.057\n",
            "sigma2      3476.6737     42.150     82.483      0.000    3394.061    3559.286\n",
            "===================================================================================\n",
            "Ljung-Box (L1) (Q):                   0.02   Jarque-Bera (JB):              2986.71\n",
            "Prob(Q):                              0.90   Prob(JB):                         0.00\n",
            "Heteroskedasticity (H):               1.89   Skew:                            -0.28\n",
            "Prob(H) (two-sided):                  0.00   Kurtosis:                         6.74\n",
            "===================================================================================\n",
            "\n",
            "Warnings:\n",
            "[1] Covariance matrix calculated using the outer product of gradients (complex-step).\n",
            "\n",
            "LLR test p-value = 0.005\n"
          ]
        }
      ],
      "source": [
        "model_ar_6 = ARIMA(df.market_value, order=(6,0,0)) # Changed from ARMA to ARIMA and added integrated order\n",
        "results_ar_6 = model_ar_6.fit()\n",
        "print(results_ar_6.summary())\n",
        "print(\"\\nLLR test p-value = \" + str(LLR_test(model_ar_5, model_ar_6)))"
      ]
    },
    {
      "cell_type": "code",
      "execution_count": 36,
      "metadata": {
        "id": "dbsA0zwrqdWP",
        "outputId": "b99e9391-8054-47f3-dd6c-2098e3086eea",
        "colab": {
          "base_uri": "https://localhost:8080/"
        }
      },
      "outputs": [
        {
          "output_type": "stream",
          "name": "stdout",
          "text": [
            "                               SARIMAX Results                                \n",
            "==============================================================================\n",
            "Dep. Variable:           market_value   No. Observations:                 5021\n",
            "Model:                 ARIMA(7, 0, 0)   Log Likelihood              -27592.022\n",
            "Date:                Tue, 19 Aug 2025   AIC                          55202.044\n",
            "Time:                        16:39:38   BIC                          55260.736\n",
            "Sample:                    01-07-1994   HQIC                         55222.610\n",
            "                         - 04-05-2013                                         \n",
            "Covariance Type:                  opg                                         \n",
            "==============================================================================\n",
            "                 coef    std err          z      P>|z|      [0.025      0.975]\n",
            "------------------------------------------------------------------------------\n",
            "const       5089.6409    405.381     12.555      0.000    4295.110    5884.172\n",
            "ar.L1          0.9783      0.010     95.742      0.000       0.958       0.998\n",
            "ar.L2         -0.0304      0.014     -2.183      0.029      -0.058      -0.003\n",
            "ar.L3         -0.0267      0.013     -2.108      0.035      -0.052      -0.002\n",
            "ar.L4          0.1039      0.013      8.053      0.000       0.079       0.129\n",
            "ar.L5         -0.0668      0.012     -5.480      0.000      -0.091      -0.043\n",
            "ar.L6         -0.0025      0.013     -0.199      0.842      -0.028       0.022\n",
            "ar.L7          0.0427      0.010      4.397      0.000       0.024       0.062\n",
            "sigma2      3471.0296     42.068     82.510      0.000    3388.578    3553.481\n",
            "===================================================================================\n",
            "Ljung-Box (L1) (Q):                   0.00   Jarque-Bera (JB):              3013.82\n",
            "Prob(Q):                              0.99   Prob(JB):                         0.00\n",
            "Heteroskedasticity (H):               1.89   Skew:                            -0.30\n",
            "Prob(H) (two-sided):                  0.00   Kurtosis:                         6.75\n",
            "===================================================================================\n",
            "\n",
            "Warnings:\n",
            "[1] Covariance matrix calculated using the outer product of gradients (complex-step).\n",
            "\n",
            "LLR test p-value = 0.003\n"
          ]
        }
      ],
      "source": [
        "model_ar_7 = ARIMA(df.market_value, order=(7,0,0)) # Changed from ARMA to ARIMA and added integrated order\n",
        "results_ar_7 = model_ar_7.fit()\n",
        "print(results_ar_7.summary())\n",
        "print(\"\\nLLR test p-value = \" + str(LLR_test(model_ar_6, model_ar_7)))"
      ]
    },
    {
      "cell_type": "code",
      "execution_count": 37,
      "metadata": {
        "id": "8yPM_8UZqdWP",
        "outputId": "cd54dd27-fa91-4813-853e-71e63a0728d1",
        "colab": {
          "base_uri": "https://localhost:8080/"
        }
      },
      "outputs": [
        {
          "output_type": "stream",
          "name": "stdout",
          "text": [
            "                               SARIMAX Results                                \n",
            "==============================================================================\n",
            "Dep. Variable:           market_value   No. Observations:                 5021\n",
            "Model:                 ARIMA(8, 0, 0)   Log Likelihood              -27591.854\n",
            "Date:                Tue, 19 Aug 2025   AIC                          55203.708\n",
            "Time:                        16:39:44   BIC                          55268.922\n",
            "Sample:                    01-07-1994   HQIC                         55226.560\n",
            "                         - 04-05-2013                                         \n",
            "Covariance Type:                  opg                                         \n",
            "==============================================================================\n",
            "                 coef    std err          z      P>|z|      [0.025      0.975]\n",
            "------------------------------------------------------------------------------\n",
            "const       5089.6409    407.242     12.498      0.000    4291.460    5887.821\n",
            "ar.L1          0.9787      0.010     95.719      0.000       0.959       0.999\n",
            "ar.L2         -0.0305      0.014     -2.183      0.029      -0.058      -0.003\n",
            "ar.L3         -0.0273      0.013     -2.121      0.034      -0.053      -0.002\n",
            "ar.L4          0.1047      0.013      7.984      0.000       0.079       0.130\n",
            "ar.L5         -0.0670      0.012     -5.497      0.000      -0.091      -0.043\n",
            "ar.L6         -0.0028      0.013     -0.216      0.829      -0.028       0.022\n",
            "ar.L7          0.0505      0.014      3.598      0.000       0.023       0.078\n",
            "ar.L8         -0.0080      0.010     -0.815      0.415      -0.027       0.011\n",
            "sigma2      3471.3457     42.181     82.296      0.000    3388.672    3554.019\n",
            "===================================================================================\n",
            "Ljung-Box (L1) (Q):                   0.00   Jarque-Bera (JB):              3003.28\n",
            "Prob(Q):                              0.99   Prob(JB):                         0.00\n",
            "Heteroskedasticity (H):               1.89   Skew:                            -0.30\n",
            "Prob(H) (two-sided):                  0.00   Kurtosis:                         6.74\n",
            "===================================================================================\n",
            "\n",
            "Warnings:\n",
            "[1] Covariance matrix calculated using the outer product of gradients (complex-step).\n",
            "\n",
            "LLR test p-value = 0.562\n"
          ]
        }
      ],
      "source": [
        "model_ar_8 = ARIMA(df.market_value, order=(8,0,0)) # Changed from ARMA to ARIMA and added integrated order\n",
        "results_ar_8 = model_ar_8.fit()\n",
        "print(results_ar_8.summary())\n",
        "print(\"\\nLLR test p-value = \" + str(LLR_test(model_ar_7, model_ar_8)))"
      ]
    },
    {
      "cell_type": "code",
      "execution_count": 38,
      "metadata": {
        "id": "kj8eYoK7qdWP",
        "outputId": "d1caca38-ae1f-4a4a-c468-ce90dd38c07c",
        "colab": {
          "base_uri": "https://localhost:8080/"
        }
      },
      "outputs": [
        {
          "output_type": "stream",
          "name": "stdout",
          "text": [
            "LLR test: 0.0\n"
          ]
        }
      ],
      "source": [
        "print(\"LLR test: \" + str(LLR_test(model_ar, model_ar_7, DF = 6)))"
      ]
    },
    {
      "cell_type": "markdown",
      "metadata": {
        "id": "N_tnCQGPqdWP"
      },
      "source": [
        "## Analysing the Residuals"
      ]
    },
    {
      "cell_type": "code",
      "execution_count": 39,
      "metadata": {
        "id": "MlRWhLDPqdWQ"
      },
      "outputs": [],
      "source": [
        "df['res_price'] = results_ar_7.resid"
      ]
    },
    {
      "cell_type": "code",
      "execution_count": 40,
      "metadata": {
        "id": "Uids8XFzqdWQ",
        "outputId": "400881bd-a245-47c6-b198-478401a8fd68",
        "colab": {
          "base_uri": "https://localhost:8080/"
        }
      },
      "outputs": [
        {
          "output_type": "execute_result",
          "data": {
            "text/plain": [
              "np.float64(0.3519708987184317)"
            ]
          },
          "metadata": {},
          "execution_count": 40
        }
      ],
      "source": [
        "df.res_price.mean()"
      ]
    },
    {
      "cell_type": "code",
      "execution_count": 41,
      "metadata": {
        "id": "SKnErHqeqdWQ",
        "outputId": "2e9810ac-5c58-4873-fb81-a56e8b4177e6",
        "colab": {
          "base_uri": "https://localhost:8080/"
        }
      },
      "outputs": [
        {
          "output_type": "execute_result",
          "data": {
            "text/plain": [
              "4005.822045824189"
            ]
          },
          "metadata": {},
          "execution_count": 41
        }
      ],
      "source": [
        "df.res_price.var()"
      ]
    },
    {
      "cell_type": "code",
      "execution_count": 42,
      "metadata": {
        "id": "uKHPgp18qdWQ",
        "outputId": "788e6cd5-4cdb-457d-d178-3e862ff7b3a2",
        "colab": {
          "base_uri": "https://localhost:8080/"
        }
      },
      "outputs": [
        {
          "output_type": "execute_result",
          "data": {
            "text/plain": [
              "(np.float64(-76.0533941035435),\n",
              " 0.0,\n",
              " 0,\n",
              " 5020,\n",
              " {'1%': np.float64(-3.431653316130827),\n",
              "  '5%': np.float64(-2.8621159253018247),\n",
              "  '10%': np.float64(-2.5670765656497516)},\n",
              " np.float64(54842.15874022058))"
            ]
          },
          "metadata": {},
          "execution_count": 42
        }
      ],
      "source": [
        "sts.adfuller(df.res_price)"
      ]
    },
    {
      "cell_type": "code",
      "execution_count": 43,
      "metadata": {
        "id": "w__R-RXLqdWQ",
        "outputId": "3b85eef2-6ca2-4b49-f10a-49ba1017d661",
        "colab": {
          "base_uri": "https://localhost:8080/",
          "height": 469
        }
      },
      "outputs": [
        {
          "output_type": "display_data",
          "data": {
            "text/plain": [
              "<Figure size 640x480 with 1 Axes>"
            ],
            "image/png": "[encoded data removed]"
          },
          "metadata": {}
        }
      ],
      "source": [
        "sgt.plot_acf(df.res_price, zero = False, lags = 40)\n",
        "plt.title(\"ACF Of Residuals for Prices\",size=24)\n",
        "plt.show()"
      ]
    },
    {
      "cell_type": "code",
      "execution_count": 44,
      "metadata": {
        "id": "BblFR_GsqdWR",
        "outputId": "251371d0-b291-4c0b-f920-8046f6cb7f19",
        "colab": {
          "base_uri": "https://localhost:8080/",
          "height": 365
        }
      },
      "outputs": [
        {
          "output_type": "display_data",
          "data": {
            "text/plain": [
              "<Figure size 2000x500 with 1 Axes>"
            ],
            "image/png": "[encoded data removed]"
          },
          "metadata": {}
        }
      ],
      "source": [
        "df.res_price[1:].plot(figsize=(20,5))\n",
        "plt.title(\"Residuals of Prices\",size=24)\n",
        "plt.show()"
      ]
    }
  ],
  "metadata": {
    "kernelspec": {
      "display_name": "Python 3",
      "language": "python",
      "name": "python3"
    },
    "language_info": {
      "codemirror_mode": {
        "name": "ipython",
        "version": 3
      },
      "file_extension": ".py",
      "mimetype": "text/x-python",
      "name": "python",
      "nbconvert_exporter": "python",
      "pygments_lexer": "ipython3",
      "version": "3.6.7"
    },
    "colab": {
      "provenance": [],
      "include_colab_link": true
    }
  },
  "nbformat": 4,
  "nbformat_minor": 0
}